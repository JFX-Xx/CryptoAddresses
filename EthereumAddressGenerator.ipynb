{
 "cells": [
  {
   "cell_type": "markdown",
   "metadata": {},
   "source": [
    "# Ethereum Address Generator\n",
    "## Walk-through & Checksum"
   ]
  },
  {
   "cell_type": "code",
   "execution_count": 1,
   "metadata": {},
   "outputs": [],
   "source": [
    "import codecs\n",
    "import ecdsa\n",
    "\n",
    "from Cryptodome.Hash import keccak, SHA256\n"
   ]
  },
  {
   "cell_type": "code",
   "execution_count": 2,
   "metadata": {},
   "outputs": [
    {
     "data": {
      "text/plain": [
       "'1216f219480631acc184622c2912a18a36610e61c087c914b165e6e99d1ec8d6'"
      ]
     },
     "execution_count": 2,
     "metadata": {},
     "output_type": "execute_result"
    }
   ],
   "source": [
    "# KeyCreation ETH image\n",
    "SHA_seed_str = 'YCIAjPU6k5HTTH5yO8MqnPngA1dSVwxm'\n",
    "SHA_seed_bytes = bytes(SHA_seed_str, 'utf-8')\n",
    "\n",
    "# SHA-256 is a case sensitive secure hash algorithm.\n",
    "h = SHA256.new()\n",
    "h.update(SHA_seed_bytes)\n",
    "h.hexdigest()"
   ]
  },
  {
   "cell_type": "code",
   "execution_count": 3,
   "metadata": {},
   "outputs": [],
   "source": [
    "# KeyCreation ETH image\n",
    "private_key = '1216f219480631acc184622c2912a18a36610e61c087c914b165e6e99d1ec8d6'\n",
    "\n",
    "# https://github.com/Destiner/blocksmith\n",
    "#private_key = '7077da4a47f6c85a21fe6c6cf1285c0fa06915871744ab1e5a5b741027884d00'\n",
    "\n",
    "# https://learning.oreilly.com/library/view/mastering-ethereum/9781491971932/ch04.html\n",
    "#private_key = 'f8f8a2f43c8376ccb0871305060d7b27b0554d2cc72bccf41b2705608452f315'\n",
    "\n",
    "# https://www.securityevaluators.com/casestudies/ethercombing/\n",
    "#private_key = '699ee77f6467211cdd03f4012b6fea9377ebd34f107d18c5509ce6ad85113c00'\n",
    "#private_key = '0000000000000000000000000000000000000000000000000000000000000001'\n",
    "#private_key = '0000000000000000000000000000000000000000000000000a00000000000000'\n",
    "#private_key = '4d5db4107d237df6a3d58ee5f70ae63d73d7658d4026f2eefd2f204c81682cb7'"
   ]
  },
  {
   "cell_type": "code",
   "execution_count": 4,
   "metadata": {},
   "outputs": [
    {
     "data": {
      "text/plain": [
       "b'\\x12\\x16\\xf2\\x19H\\x061\\xac\\xc1\\x84b,)\\x12\\xa1\\x8a6a\\x0ea\\xc0\\x87\\xc9\\x14\\xb1e\\xe6\\xe9\\x9d\\x1e\\xc8\\xd6'"
      ]
     },
     "execution_count": 4,
     "metadata": {},
     "output_type": "execute_result"
    }
   ],
   "source": [
    "private_key_bytes = codecs.decode(private_key, 'hex')\n",
    "private_key_bytes"
   ]
  },
  {
   "cell_type": "code",
   "execution_count": 5,
   "metadata": {},
   "outputs": [],
   "source": [
    "# Get ECDSA public key.\n",
    "# SECP256k1 (ECDSA) is a cryptographic algorithm. Num_in --> Num_out, and is therefore case agnostic.\n",
    "key = ecdsa.SigningKey.from_string(private_key_bytes, curve=ecdsa.SECP256k1).verifying_key"
   ]
  },
  {
   "cell_type": "code",
   "execution_count": 6,
   "metadata": {},
   "outputs": [
    {
     "data": {
      "text/plain": [
       "b'e\\xe8\\x04h*\\x16\\xc1G\\x82\\n\\xe7\\x9bovMg\\x14`\\xf6\\xa5\\x12\\x93\\xd3y\\x0b\\xc7\\xf3\\xb0\\xd5\\xbc.\\xdf6\\xf0v\\xfcS\\xb6\\xe3\\x0b\\x0b\\xc4\\xc7\\x05\\x9bp\\xa81\\xc3\\xc9HE;\\x9b\\xfa\\xc6\\x8fqT\\xb0\\xbbw\\xe0f'"
      ]
     },
     "execution_count": 6,
     "metadata": {},
     "output_type": "execute_result"
    }
   ],
   "source": [
    "public_key_bytes = key.to_string()\n",
    "public_key_bytes"
   ]
  },
  {
   "cell_type": "code",
   "execution_count": 7,
   "metadata": {},
   "outputs": [
    {
     "data": {
      "text/plain": [
       "b'65e804682a16c147820ae79b6f764d671460f6a51293d3790bc7f3b0d5bc2edf36f076fc53b6e30b0bc4c7059b70a831c3c948453b9bfac68f7154b0bb77e066'"
      ]
     },
     "execution_count": 7,
     "metadata": {},
     "output_type": "execute_result"
    }
   ],
   "source": [
    "public_key = codecs.encode(public_key_bytes, 'hex')\n",
    "public_key"
   ]
  },
  {
   "cell_type": "code",
   "execution_count": 8,
   "metadata": {},
   "outputs": [
    {
     "name": "stdout",
     "output_type": "stream",
     "text": [
      "x = b'65e804682a16c147820ae79b6f764d671460f6a51293d3790bc7f3b0d5bc2edf'\n",
      "y = b'36f076fc53b6e30b0bc4c7059b70a831c3c948453b9bfac68f7154b0bb77e066'\n"
     ]
    }
   ],
   "source": [
    "x = public_key[:64]\n",
    "y = public_key[64:]\n",
    "\n",
    "print(f'x = {x}')\n",
    "print(f'y = {y}')"
   ]
  },
  {
   "cell_type": "code",
   "execution_count": 9,
   "metadata": {},
   "outputs": [],
   "source": [
    "# Serialized EC - Uncompressessed point format:\n",
    "# 04 + x-coordinate (32 bytes/64 hex) + y-coordinate (32 bytes/64 hex)"
   ]
  },
  {
   "cell_type": "code",
   "execution_count": 10,
   "metadata": {},
   "outputs": [],
   "source": [
    "# SHA-3 is mentioned throughout Ethereum documents and code,\n",
    "#  many if not all of those instances actually refer to Keccak-256,\n",
    "#  not the finalized FIPS-202 SHA-3 standard.\n",
    "# Check by:\n",
    "\n",
    "# Keccak256(\"\") = 'c5d2460186f7233c927e7db2dcc703c0e500b653ca82273b7bfad8045d85a470'\n",
    "\n",
    "# SHA3(\"\") = 'a7ffc6f8bf1ed76651c14756a061d662f580ff4de43b49fa82d80a4b80f8434a'"
   ]
  },
  {
   "cell_type": "code",
   "execution_count": 11,
   "metadata": {},
   "outputs": [
    {
     "data": {
      "text/plain": [
       "'48419b6f53b3be18c11d2a0608bbe40c7fe2ff78ab07ab11b0b0db9af76022d8'"
      ]
     },
     "execution_count": 11,
     "metadata": {},
     "output_type": "execute_result"
    }
   ],
   "source": [
    "# keccak-256 is a case sensitive secure hash algorithm.\n",
    "keccak_hash = keccak.new(digest_bits=256)\n",
    "\n",
    "keccak_hash.update(public_key_bytes)\n",
    "\n",
    "keccak_digest = keccak_hash.hexdigest()\n",
    "keccak_digest"
   ]
  },
  {
   "cell_type": "code",
   "execution_count": 12,
   "metadata": {},
   "outputs": [
    {
     "data": {
      "text/plain": [
       "'0x08bbe40c7fe2ff78ab07ab11b0b0db9af76022d8'"
      ]
     },
     "execution_count": 12,
     "metadata": {},
     "output_type": "execute_result"
    }
   ],
   "source": [
    "# Take the last 20 bytes.\n",
    "wallet_len = 40\n",
    "wallet_address = '0x' + keccak_digest[-wallet_len:]\n",
    "wallet_address"
   ]
  },
  {
   "cell_type": "code",
   "execution_count": 13,
   "metadata": {},
   "outputs": [],
   "source": [
    "# Eth EIP-55: Address Checksum.\n",
    "\n",
    "# In English, convert the address to hex, but if the ith digit is a letter\n",
    "# (ie. it's one of abcdef) print it in uppercase if the 4*ith bit of the hash\n",
    "# of the lowercase hexadecimal address is 1 otherwise print it in lowercase.\n",
    "\n",
    "\n",
    "def checksum_address(wallet_0x_address):\n",
    "    \n",
    "    '''Eth EIP-55: Address Checksum Generator'''\n",
    "    \n",
    "    address_bytes = bytes.fromhex(wallet_0x_address[2:])\n",
    "\n",
    "    wallet_address_utf8 = wallet_0x_address[2:].encode('utf-8')\n",
    "\n",
    "    kh = keccak.new(digest_bits=256)\n",
    "    kh.update(wallet_address_utf8)\n",
    "\n",
    "    o = ''\n",
    "    v = int.from_bytes(kh.digest(), 'big')\n",
    "\n",
    "    for i, c in enumerate(address_bytes.hex()):\n",
    "        if c in '0123456789':\n",
    "           o += c\n",
    "        else:\n",
    "           o += c.upper() if (v & (2**(255 - 4*i))) else c.lower()\n",
    "\n",
    "    return('0x' + o)"
   ]
  },
  {
   "cell_type": "code",
   "execution_count": 14,
   "metadata": {},
   "outputs": [
    {
     "name": "stdout",
     "output_type": "stream",
     "text": [
      "0x08bBE40c7fE2Ff78AB07AB11B0B0dB9Af76022d8\n"
     ]
    }
   ],
   "source": [
    "print(checksum_address(wallet_address))"
   ]
  }
 ],
 "metadata": {
  "kernelspec": {
   "display_name": "Python 3",
   "language": "python",
   "name": "python3"
  },
  "language_info": {
   "codemirror_mode": {
    "name": "ipython",
    "version": 3
   },
   "file_extension": ".py",
   "mimetype": "text/x-python",
   "name": "python",
   "nbconvert_exporter": "python",
   "pygments_lexer": "ipython3",
   "version": "3.7.2"
  }
 },
 "nbformat": 4,
 "nbformat_minor": 2
}
